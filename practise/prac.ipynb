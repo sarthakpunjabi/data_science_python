{
 "metadata": {
  "language_info": {
   "codemirror_mode": {
    "name": "ipython",
    "version": 3
   },
   "file_extension": ".py",
   "mimetype": "text/x-python",
   "name": "python",
   "nbconvert_exporter": "python",
   "pygments_lexer": "ipython3",
   "version": "3.8.2"
  },
  "orig_nbformat": 2,
  "kernelspec": {
   "name": "pythonjvsc74a57bd0a5cf5fcc9fb00e63cdd40438c771a85670e796111e8b55a516c238ba88819d98",
   "display_name": "Python 3.8.2  ('env1': venv)"
  },
  "metadata": {
   "interpreter": {
    "hash": "a5cf5fcc9fb00e63cdd40438c771a85670e796111e8b55a516c238ba88819d98"
   }
  }
 },
 "nbformat": 4,
 "nbformat_minor": 2,
 "cells": [
  {
   "cell_type": "code",
   "execution_count": null,
   "metadata": {},
   "outputs": [],
   "source": []
  }
 ]
}